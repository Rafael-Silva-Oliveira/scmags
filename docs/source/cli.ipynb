{
 "cells": [
  {
   "cell_type": "markdown",
   "id": "eb9a941b",
   "metadata": {},
   "source": [
    "# Cli Guide\n",
    "\n",
    "It also provides a command line interface for users who want to use the **scmags** package.\\\n",
    "This tutorial shows you how to use the **scmags** package from the terminal.\n",
    "\n",
    "You can use the `scmags -h` command to see the cli arguments and descriptions.\\\n",
    "Data and set labels are mandatory arguments. You can optionally use the remaining arguments."
   ]
  },
  {
   "cell_type": "code",
   "execution_count": 1,
   "id": "7cefef18",
   "metadata": {},
   "outputs": [
    {
     "name": "stdout",
     "output_type": "stream",
     "text": [
      "usage: scmags [-h] [-genann] [-v] [-sep] [-head] [-incol] [-thr] [-im] [-nsel]\n",
      "              [-nolnorm] [-nmark] [-ncore] [-dyn] [-dot] [-tsne] [-heat]\n",
      "              [-knn] [-t] [-wrt]\n",
      "              data labels\n",
      "\n",
      "|---- Arguments ----|\n",
      "\n",
      "positional arguments:\n",
      "  data                  Input data must be in .csv format. Also rows should\n",
      "                        correspond to cells and columns to genes. If the\n",
      "                        reveerse is true, use the transpose (-t --transpose)\n",
      "                        option\n",
      "  labels                Cluster labels must be in .csv format and match the\n",
      "                        numberof cells.\n",
      "\n",
      "optional arguments:\n",
      "  -h, --help            show this help message and exit\n",
      "  -genann               Gene Annotation file (default: None)\n",
      "  -v, --verbose         Transpose input matrix (default: False)\n",
      "  -sep , --readseperator \n",
      "                        Delimiter to use. (default: , )\n",
      "  -head , --header      If header are on line 1, set it to 0. Set to None if\n",
      "                        headers are not available. (default: 0))\n",
      "  -incol , --indexcol   Set to 0 if the row indexes are in the 1st column. If\n",
      "                        the index does not exist, set it to None. (default:\n",
      "                        0))\n",
      "  -thr , --expthres     Intra-cluster expression threshold to be used in gene\n",
      "                        filtering (default: None)\n",
      "  -im , --imexp         Significance of out-of-cluster expression rate\n",
      "                        (default: 10))\n",
      "  -nsel , --nofsel      Number of genes remaining for each cluster after\n",
      "                        filtering (default: 10))\n",
      "  -nolnorm, --nolognorm\n",
      "                        Log normalization status in gene filtering (default:\n",
      "                        True)\n",
      "  -nmark , --nofmarkers \n",
      "                        Number of markers to be selected for each cluster\n",
      "                        (default: 5))\n",
      "  -ncore , --nofcores   Number of cores to use (default: -2))\n",
      "  -dyn, --dynprog       Dynamic programming option for gene selection\n",
      "                        (default: False)\n",
      "  -dot, --dotplot       Dot plotting status (default: False)\n",
      "  -tsne, --marktsne     T-SNE plotting status (default: False)\n",
      "  -heat, --markheat     Heatmap plotting status (default: False)\n",
      "  -knn, --knnconf       K-NN classiification and confusion matrix plotting\n",
      "                        status (default: False)\n",
      "  -t, --transpose       If the data matrix is gene*cell, use (default: False)\n",
      "  -wrt, --writeres      If you want to print the results to the directory\n",
      "                        where the data is, use (default: False)\n"
     ]
    }
   ],
   "source": [
    "%%bash\n",
    "scmags -h"
   ]
  },
  {
   "cell_type": "markdown",
   "id": "9f076b71",
   "metadata": {},
   "source": [
    "Now, let's perform the marker selection process on the Zeisel data set.\n",
    "First you can set the working directory to the folder where the dataset is located.\\\n",
    "`Data` and `labels` must be in `.csv` format. If you want to give `gene names`, the room should be in `.csv` format."
   ]
  },
  {
   "cell_type": "code",
   "execution_count": 2,
   "id": "4fd5ac74",
   "metadata": {},
   "outputs": [
    {
     "name": "stdout",
     "output_type": "stream",
     "text": [
      "Pollen_Data.csv\n",
      "Pollen_Data_markers_res_ann.csv\n",
      "Pollen_Data_markers_res_ind.csv\n",
      "Pollen_Gene_Ann.csv\n",
      "Pollen_Labels.csv\n"
     ]
    }
   ],
   "source": [
    "%%bash \n",
    "cd Pollen\n",
    "ls"
   ]
  },
  {
   "cell_type": "markdown",
   "id": "4b701e03",
   "metadata": {},
   "source": [
    "In the data set, rows should correspond to cells and columns should correspond to genes. That's why we used the `-t` argument here"
   ]
  },
  {
   "cell_type": "code",
   "execution_count": 3,
   "id": "4ed08e5e",
   "metadata": {},
   "outputs": [
    {
     "name": "stdout",
     "output_type": "stream",
     "text": [
      "-> Eliminating low expression genes\n",
      "-> Selecting cluster-specific candidate marker genes\n",
      "-> Selecting  markers for each cluster\n",
      "             Marker_1    Marker_2    Marker_3    Marker_4    Marker_5\n",
      "C_Hi_2338   Gene_9590   Gene_9587  Gene_18197   Gene_6765   Gene_7636\n",
      "C_Hi_2339   Gene_5452   Gene_3074   Gene_8163   Gene_4461   Gene_3121\n",
      "C_Hi_BJ     Gene_3870   Gene_4560   Gene_7639  Gene_21444  Gene_11528\n",
      "C_Hi_GW16  Gene_14484   Gene_3258  Gene_18602   Gene_6788   Gene_3325\n",
      "C_Hi_GW21   Gene_7646  Gene_16255  Gene_11768  Gene_10727  Gene_14025\n",
      "C_Hi_HL60  Gene_13612  Gene_16874  Gene_16683   Gene_3298  Gene_13747\n",
      "C_Hi_K562   Gene_7897   Gene_7008   Gene_7898   Gene_7074  Gene_17624\n",
      "C_Hi_Kera   Gene_6529   Gene_9572  Gene_17013    Gene_804    Gene_805\n",
      "C_Hi_NPC    Gene_3855  Gene_11381   Gene_3878  Gene_15372  Gene_21221\n",
      "C_Hi_iPS    Gene_4022   Gene_9819  Gene_10525  Gene_17332  Gene_19200\n"
     ]
    }
   ],
   "source": [
    "%%bash \n",
    "cd Pollen\n",
    "scmags Pollen_Data.csv Pollen_Labels.csv -t -v"
   ]
  },
  {
   "cell_type": "markdown",
   "id": "14678933",
   "metadata": {},
   "source": [
    "If you are not working in the location of the data, you can give the arguments as path."
   ]
  },
  {
   "cell_type": "code",
   "execution_count": 4,
   "id": "80490e55",
   "metadata": {},
   "outputs": [
    {
     "name": "stdout",
     "output_type": "stream",
     "text": [
      "-> Eliminating low expression genes\n",
      "-> Selecting cluster-specific candidate marker genes\n",
      "-> Selecting  markers for each cluster\n",
      "             Marker_1    Marker_2    Marker_3    Marker_4    Marker_5\n",
      "C_Hi_2338   Gene_9590   Gene_9587  Gene_18197   Gene_6765   Gene_7636\n",
      "C_Hi_2339   Gene_5452   Gene_3074   Gene_8163   Gene_4461   Gene_3121\n",
      "C_Hi_BJ     Gene_3870   Gene_4560   Gene_7639  Gene_21444  Gene_11528\n",
      "C_Hi_GW16  Gene_14484   Gene_3258  Gene_18602   Gene_6788   Gene_3325\n",
      "C_Hi_GW21   Gene_7646  Gene_16255  Gene_11768  Gene_10727  Gene_14025\n",
      "C_Hi_HL60  Gene_13612  Gene_16874  Gene_16683   Gene_3298  Gene_13747\n",
      "C_Hi_K562   Gene_7897   Gene_7008   Gene_7898   Gene_7074  Gene_17624\n",
      "C_Hi_Kera   Gene_6529   Gene_9572  Gene_17013    Gene_804    Gene_805\n",
      "C_Hi_NPC    Gene_3855  Gene_11381   Gene_3878  Gene_15372  Gene_21221\n",
      "C_Hi_iPS    Gene_4022   Gene_9819  Gene_10525  Gene_17332  Gene_19200\n"
     ]
    }
   ],
   "source": [
    "%%bash \n",
    "scmags Pollen/Pollen_Data.csv Pollen/Pollen_Labels.csv  -t -v"
   ]
  },
  {
   "cell_type": "markdown",
   "id": "898da419",
   "metadata": {},
   "source": [
    "If you want, you can save your results in `.csv` format with `-wrt` command.\n",
    "Results are saved as two files. One has selected gene names and the other has matrix indices."
   ]
  },
  {
   "cell_type": "code",
   "execution_count": 5,
   "id": "6e5a36de",
   "metadata": {},
   "outputs": [
    {
     "name": "stdout",
     "output_type": "stream",
     "text": [
      "Pollen_Data.csv\n",
      "Pollen_Data_markers_res_ann.csv\n",
      "Pollen_Data_markers_res_ind.csv\n",
      "Pollen_Gene_Ann.csv\n",
      "Pollen_Labels.csv\n"
     ]
    }
   ],
   "source": [
    "%%bash \n",
    "scmags Pollen/Pollen_Data.csv Pollen/Pollen_Labels.csv  -t -wrt\n",
    "ls Pollen"
   ]
  },
  {
   "cell_type": "markdown",
   "id": "4ef9eca6",
   "metadata": {},
   "source": [
    "You can also change the number of genes remaining after filtering and the number of markers to be selected."
   ]
  },
  {
   "cell_type": "markdown",
   "id": "86de4948",
   "metadata": {},
   "source": [
    "<div class=\"alert alert-info\">\n",
    "\n",
    "**Note**\n",
    "    \n",
    "If you are going to increase the number of markers, make sure that the number of genes remaining after filtering is more than the number of markers to be selected.\n",
    "\n",
    "</div>  "
   ]
  },
  {
   "cell_type": "code",
   "execution_count": 6,
   "id": "91090753",
   "metadata": {},
   "outputs": [
    {
     "name": "stdout",
     "output_type": "stream",
     "text": [
      "-> Eliminating low expression genes\n",
      "-> Selecting cluster-specific candidate marker genes\n",
      "-> Selecting  markers for each cluster\n",
      "             Marker_1    Marker_2  ...    Marker_9   Marker_10\n",
      "C_Hi_2338   Gene_9590  Gene_17102  ...   Gene_3616   Gene_9537\n",
      "C_Hi_2339   Gene_5452  Gene_13740  ...   Gene_3105   Gene_8165\n",
      "C_Hi_BJ     Gene_3870   Gene_4560  ...   Gene_6719   Gene_1584\n",
      "C_Hi_GW16  Gene_14484   Gene_3258  ...  Gene_17020  Gene_22028\n",
      "C_Hi_GW21   Gene_7646  Gene_16255  ...  Gene_18836   Gene_3482\n",
      "C_Hi_HL60  Gene_13612  Gene_16874  ...   Gene_9083    Gene_466\n",
      "C_Hi_K562   Gene_7897   Gene_7008  ...  Gene_12811   Gene_5127\n",
      "C_Hi_Kera   Gene_6529   Gene_9536  ...    Gene_805    Gene_803\n",
      "C_Hi_NPC   Gene_10156   Gene_3855  ...   Gene_9888  Gene_16873\n",
      "C_Hi_iPS    Gene_4022   Gene_9819  ...    Gene_601  Gene_21753\n",
      "\n",
      "[10 rows x 10 columns]\n"
     ]
    }
   ],
   "source": [
    "%%bash \n",
    "scmags Pollen/Pollen_Data.csv Pollen/Pollen_Labels.csv  -t -v -nsel 20 -nmark 10"
   ]
  },
  {
   "cell_type": "markdown",
   "id": "80361987",
   "metadata": {},
   "source": [
    "You can also visualize markers."
   ]
  },
  {
   "cell_type": "code",
   "execution_count": 7,
   "id": "d16422bb",
   "metadata": {},
   "outputs": [
    {
     "name": "stdout",
     "output_type": "stream",
     "text": [
      "Figure(600x1400)\n"
     ]
    }
   ],
   "source": [
    "%%bash\n",
    "scmags Pollen/Pollen_Data.csv Pollen/Pollen_Labels.csv  -t -dot"
   ]
  },
  {
   "cell_type": "markdown",
   "id": "7e3fe9ca",
   "metadata": {},
   "source": [
    "<div class=\"alert alert-info\">\n",
    "\n",
    "**Warning**\n",
    "    \n",
    "The cli part of the package is under development.\n",
    "If the data differs from the requested format, errors may occur.\n",
    "A few arguments related to reading data have been added, but errors may still occur.\n",
    "\n",
    "</div>  "
   ]
  }
 ],
 "metadata": {
  "kernelspec": {
   "display_name": "Python 3",
   "language": "python",
   "name": "python3"
  },
  "language_info": {
   "codemirror_mode": {
    "name": "ipython",
    "version": 3
   },
   "file_extension": ".py",
   "mimetype": "text/x-python",
   "name": "python",
   "nbconvert_exporter": "python",
   "pygments_lexer": "ipython3",
   "version": "3.8.8"
  }
 },
 "nbformat": 4,
 "nbformat_minor": 5
}

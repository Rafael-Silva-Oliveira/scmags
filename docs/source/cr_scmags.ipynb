{
 "cells": [
  {
   "cell_type": "markdown",
   "id": "41237065",
   "metadata": {},
   "source": [
    "# Create ScMags Object\n",
    "\n",
    "Creating the ScMags object is very simple.\\\n",
    "Data matrix and labels are mandatory gene names are optional.\n",
    "* In the data matrix, rows must correspond to cells, columns must correspond to genes, and must be in one of three formats: `numpy.ndarry`, `scipy.sparse.csr_matrix`, or `scipy.sparse.csc_matrix`. \n",
    "\n",
    "* Labels and gene names should be in numpy.ndarray format"
   ]
  },
  {
   "cell_type": "markdown",
   "id": "c0671ea2",
   "metadata": {},
   "source": [
    "An example for the pollen dataset\\\n",
    "In any location in the folder named pollen the data matrix get the labels and gene names."
   ]
  },
  {
   "cell_type": "code",
   "execution_count": 1,
   "id": "f2c4b446",
   "metadata": {},
   "outputs": [
    {
     "name": "stdout",
     "output_type": "stream",
     "text": [
      "Pollen_Data.csv\n",
      "Pollen_Data_markers_res_ann.csv\n",
      "Pollen_Data_markers_res_ind.csv\n",
      "Pollen_Gene_Ann.csv\n",
      "Pollen_Labels.csv\n"
     ]
    }
   ],
   "source": [
    "%%bash \n",
    "ls Pollen"
   ]
  },
  {
   "cell_type": "markdown",
   "id": "58f2f0ec",
   "metadata": {},
   "source": [
    "Let's read the data and convert it to numpy.ndarray format"
   ]
  },
  {
   "cell_type": "code",
   "execution_count": 2,
   "id": "068822b1",
   "metadata": {},
   "outputs": [],
   "source": [
    "import pandas as pd\n",
    "\n",
    "pollen_data = pd.read_csv('Pollen/Pollen_Data.csv',sep=',', header = 0,  index_col = 0).to_numpy().T\n",
    "pollen_labels = pd.read_csv('Pollen/Pollen_Labels.csv', sep=',', header = 0,  index_col = 0).to_numpy()\n",
    "gene_names = pd.read_csv('Pollen/Pollen_Gene_Ann.csv', sep=',', header = 0,  index_col = 0).to_numpy()\n",
    "\n",
    "pollen_labels = pollen_labels.reshape(pollen_data.shape[0])\n",
    "gene_names = gene_names.reshape(pollen_data.shape[1])"
   ]
  },
  {
   "cell_type": "markdown",
   "id": "7517a4f4",
   "metadata": {},
   "source": [
    "* Sizes of data labels and gene names must match. \n",
    "* In addition, labels and gene names must be a one-dimensional array."
   ]
  },
  {
   "cell_type": "code",
   "execution_count": 3,
   "id": "05fddf5c",
   "metadata": {},
   "outputs": [
    {
     "name": "stdout",
     "output_type": "stream",
     "text": [
      "(301, 23730)\n",
      "<class 'numpy.ndarray'>\n"
     ]
    }
   ],
   "source": [
    "print(pollen_data.shape)\n",
    "print(type(pollen_data))"
   ]
  },
  {
   "cell_type": "code",
   "execution_count": 4,
   "id": "15e85a41",
   "metadata": {},
   "outputs": [
    {
     "name": "stdout",
     "output_type": "stream",
     "text": [
      "(301,)\n",
      "<class 'numpy.ndarray'>\n"
     ]
    }
   ],
   "source": [
    "print(pollen_labels.shape)\n",
    "print(type(pollen_labels))"
   ]
  },
  {
   "cell_type": "code",
   "execution_count": 5,
   "id": "853df8b9",
   "metadata": {},
   "outputs": [
    {
     "name": "stdout",
     "output_type": "stream",
     "text": [
      "(301, 23730)\n",
      "<class 'numpy.ndarray'>\n"
     ]
    }
   ],
   "source": [
    "print(pollen_data.shape)\n",
    "print(type(pollen_labels))"
   ]
  },
  {
   "cell_type": "markdown",
   "id": "375930e1",
   "metadata": {},
   "source": [
    "Now let's create the `ScMags` object"
   ]
  },
  {
   "cell_type": "code",
   "execution_count": 6,
   "id": "8ba22dcf",
   "metadata": {},
   "outputs": [],
   "source": [
    "import scmags as sm\n",
    "pollen = sm.ScMags(data=pollen_data, labels=pollen_labels, gene_ann=gene_names)"
   ]
  },
  {
   "cell_type": "markdown",
   "id": "ff334d3c",
   "metadata": {},
   "source": [
    "Then the desired operations can be performed."
   ]
  },
  {
   "cell_type": "code",
   "execution_count": 7,
   "id": "68660c12",
   "metadata": {},
   "outputs": [
    {
     "name": "stdout",
     "output_type": "stream",
     "text": [
      "-> Eliminating low expression genes\n",
      "-> Selecting cluster-specific candidate marker genes\n",
      "-> Selecting  markers for each cluster\n"
     ]
    },
    {
     "data": {
      "text/html": [
       "<div>\n",
       "<style scoped>\n",
       "    .dataframe tbody tr th:only-of-type {\n",
       "        vertical-align: middle;\n",
       "    }\n",
       "\n",
       "    .dataframe tbody tr th {\n",
       "        vertical-align: top;\n",
       "    }\n",
       "\n",
       "    .dataframe thead th {\n",
       "        text-align: right;\n",
       "    }\n",
       "</style>\n",
       "<table border=\"1\" class=\"dataframe\">\n",
       "  <thead>\n",
       "    <tr style=\"text-align: right;\">\n",
       "      <th></th>\n",
       "      <th>Marker_1</th>\n",
       "      <th>Marker_2</th>\n",
       "      <th>Marker_3</th>\n",
       "    </tr>\n",
       "  </thead>\n",
       "  <tbody>\n",
       "    <tr>\n",
       "      <th>C_Hi_2338</th>\n",
       "      <td>KRT86</td>\n",
       "      <td>KRT83</td>\n",
       "      <td>S100A9</td>\n",
       "    </tr>\n",
       "    <tr>\n",
       "      <th>C_Hi_2339</th>\n",
       "      <td>ELK2AP</td>\n",
       "      <td>CD27</td>\n",
       "      <td>HLA-DQA2</td>\n",
       "    </tr>\n",
       "    <tr>\n",
       "      <th>C_Hi_BJ</th>\n",
       "      <td>COL6A3</td>\n",
       "      <td>DCN</td>\n",
       "      <td>GREM1</td>\n",
       "    </tr>\n",
       "    <tr>\n",
       "      <th>C_Hi_GW16</th>\n",
       "      <td>NNAT</td>\n",
       "      <td>CDO1</td>\n",
       "      <td>SETBP1</td>\n",
       "    </tr>\n",
       "    <tr>\n",
       "      <th>C_Hi_GW21</th>\n",
       "      <td>GRIA2</td>\n",
       "      <td>PLXNA4</td>\n",
       "      <td>MAPT</td>\n",
       "    </tr>\n",
       "    <tr>\n",
       "      <th>C_Hi_HL60</th>\n",
       "      <td>MPO</td>\n",
       "      <td>PRTN3</td>\n",
       "      <td>PRG2</td>\n",
       "    </tr>\n",
       "    <tr>\n",
       "      <th>C_Hi_K562</th>\n",
       "      <td>HBG1</td>\n",
       "      <td>GAGE4</td>\n",
       "      <td>HBG2</td>\n",
       "    </tr>\n",
       "    <tr>\n",
       "      <th>C_Hi_Kera</th>\n",
       "      <td>FGFBP1</td>\n",
       "      <td>KRT6C</td>\n",
       "      <td>PTHLH</td>\n",
       "    </tr>\n",
       "    <tr>\n",
       "      <th>C_Hi_NPC</th>\n",
       "      <td>COL2A1</td>\n",
       "      <td>LRP2</td>\n",
       "      <td>COL9A1</td>\n",
       "    </tr>\n",
       "    <tr>\n",
       "      <th>C_Hi_iPS</th>\n",
       "      <td>CRABP1</td>\n",
       "      <td>LECT1</td>\n",
       "      <td>LOC100505817</td>\n",
       "    </tr>\n",
       "  </tbody>\n",
       "</table>\n",
       "</div>"
      ],
      "text/plain": [
       "          Marker_1 Marker_2      Marker_3\n",
       "C_Hi_2338    KRT86    KRT83        S100A9\n",
       "C_Hi_2339   ELK2AP     CD27      HLA-DQA2\n",
       "C_Hi_BJ     COL6A3      DCN         GREM1\n",
       "C_Hi_GW16     NNAT     CDO1        SETBP1\n",
       "C_Hi_GW21    GRIA2   PLXNA4          MAPT\n",
       "C_Hi_HL60      MPO    PRTN3          PRG2\n",
       "C_Hi_K562     HBG1    GAGE4          HBG2\n",
       "C_Hi_Kera   FGFBP1    KRT6C         PTHLH\n",
       "C_Hi_NPC    COL2A1     LRP2        COL9A1\n",
       "C_Hi_iPS    CRABP1    LECT1  LOC100505817"
      ]
     },
     "execution_count": 7,
     "metadata": {},
     "output_type": "execute_result"
    }
   ],
   "source": [
    "pollen.filter_genes()\n",
    "pollen.sel_clust_marker()\n",
    "pollen.get_markers()"
   ]
  },
  {
   "cell_type": "markdown",
   "id": "d6ed6ff9",
   "metadata": {},
   "source": [
    "* If gene names are not given, they are created from indexes inside."
   ]
  },
  {
   "cell_type": "code",
   "execution_count": 8,
   "id": "b3f2d4af",
   "metadata": {},
   "outputs": [
    {
     "name": "stdout",
     "output_type": "stream",
     "text": [
      "-> Eliminating low expression genes\n",
      "-> Selecting cluster-specific candidate marker genes\n",
      "-> Selecting  markers for each cluster\n"
     ]
    },
    {
     "data": {
      "text/html": [
       "<div>\n",
       "<style scoped>\n",
       "    .dataframe tbody tr th:only-of-type {\n",
       "        vertical-align: middle;\n",
       "    }\n",
       "\n",
       "    .dataframe tbody tr th {\n",
       "        vertical-align: top;\n",
       "    }\n",
       "\n",
       "    .dataframe thead th {\n",
       "        text-align: right;\n",
       "    }\n",
       "</style>\n",
       "<table border=\"1\" class=\"dataframe\">\n",
       "  <thead>\n",
       "    <tr style=\"text-align: right;\">\n",
       "      <th></th>\n",
       "      <th>Marker_1</th>\n",
       "      <th>Marker_2</th>\n",
       "      <th>Marker_3</th>\n",
       "    </tr>\n",
       "  </thead>\n",
       "  <tbody>\n",
       "    <tr>\n",
       "      <th>C_Hi_2338</th>\n",
       "      <td>Gene_9590</td>\n",
       "      <td>Gene_9587</td>\n",
       "      <td>Gene_18197</td>\n",
       "    </tr>\n",
       "    <tr>\n",
       "      <th>C_Hi_2339</th>\n",
       "      <td>Gene_5452</td>\n",
       "      <td>Gene_3074</td>\n",
       "      <td>Gene_8163</td>\n",
       "    </tr>\n",
       "    <tr>\n",
       "      <th>C_Hi_BJ</th>\n",
       "      <td>Gene_3870</td>\n",
       "      <td>Gene_4560</td>\n",
       "      <td>Gene_7639</td>\n",
       "    </tr>\n",
       "    <tr>\n",
       "      <th>C_Hi_GW16</th>\n",
       "      <td>Gene_14484</td>\n",
       "      <td>Gene_3258</td>\n",
       "      <td>Gene_18602</td>\n",
       "    </tr>\n",
       "    <tr>\n",
       "      <th>C_Hi_GW21</th>\n",
       "      <td>Gene_7646</td>\n",
       "      <td>Gene_16255</td>\n",
       "      <td>Gene_11768</td>\n",
       "    </tr>\n",
       "    <tr>\n",
       "      <th>C_Hi_HL60</th>\n",
       "      <td>Gene_13612</td>\n",
       "      <td>Gene_16874</td>\n",
       "      <td>Gene_16683</td>\n",
       "    </tr>\n",
       "    <tr>\n",
       "      <th>C_Hi_K562</th>\n",
       "      <td>Gene_7897</td>\n",
       "      <td>Gene_7008</td>\n",
       "      <td>Gene_7898</td>\n",
       "    </tr>\n",
       "    <tr>\n",
       "      <th>C_Hi_Kera</th>\n",
       "      <td>Gene_6529</td>\n",
       "      <td>Gene_9572</td>\n",
       "      <td>Gene_17013</td>\n",
       "    </tr>\n",
       "    <tr>\n",
       "      <th>C_Hi_NPC</th>\n",
       "      <td>Gene_3855</td>\n",
       "      <td>Gene_11381</td>\n",
       "      <td>Gene_3878</td>\n",
       "    </tr>\n",
       "    <tr>\n",
       "      <th>C_Hi_iPS</th>\n",
       "      <td>Gene_4022</td>\n",
       "      <td>Gene_9819</td>\n",
       "      <td>Gene_10525</td>\n",
       "    </tr>\n",
       "  </tbody>\n",
       "</table>\n",
       "</div>"
      ],
      "text/plain": [
       "             Marker_1    Marker_2    Marker_3\n",
       "C_Hi_2338   Gene_9590   Gene_9587  Gene_18197\n",
       "C_Hi_2339   Gene_5452   Gene_3074   Gene_8163\n",
       "C_Hi_BJ     Gene_3870   Gene_4560   Gene_7639\n",
       "C_Hi_GW16  Gene_14484   Gene_3258  Gene_18602\n",
       "C_Hi_GW21   Gene_7646  Gene_16255  Gene_11768\n",
       "C_Hi_HL60  Gene_13612  Gene_16874  Gene_16683\n",
       "C_Hi_K562   Gene_7897   Gene_7008   Gene_7898\n",
       "C_Hi_Kera   Gene_6529   Gene_9572  Gene_17013\n",
       "C_Hi_NPC    Gene_3855  Gene_11381   Gene_3878\n",
       "C_Hi_iPS    Gene_4022   Gene_9819  Gene_10525"
      ]
     },
     "execution_count": 8,
     "metadata": {},
     "output_type": "execute_result"
    }
   ],
   "source": [
    "pollen = sm.ScMags(data=pollen_data, labels=pollen_labels)\n",
    "pollen.filter_genes()\n",
    "pollen.sel_clust_marker()\n",
    "pollen.get_markers()"
   ]
  },
  {
   "cell_type": "markdown",
   "id": "53f6bffc",
   "metadata": {},
   "source": [
    "* These names are actually indices of genes in the data matrix."
   ]
  },
  {
   "cell_type": "code",
   "execution_count": 9,
   "id": "b60a1cd2",
   "metadata": {},
   "outputs": [
    {
     "data": {
      "text/html": [
       "<div>\n",
       "<style scoped>\n",
       "    .dataframe tbody tr th:only-of-type {\n",
       "        vertical-align: middle;\n",
       "    }\n",
       "\n",
       "    .dataframe tbody tr th {\n",
       "        vertical-align: top;\n",
       "    }\n",
       "\n",
       "    .dataframe thead th {\n",
       "        text-align: right;\n",
       "    }\n",
       "</style>\n",
       "<table border=\"1\" class=\"dataframe\">\n",
       "  <thead>\n",
       "    <tr style=\"text-align: right;\">\n",
       "      <th></th>\n",
       "      <th>Marker_1</th>\n",
       "      <th>Marker_2</th>\n",
       "      <th>Marker_3</th>\n",
       "    </tr>\n",
       "  </thead>\n",
       "  <tbody>\n",
       "    <tr>\n",
       "      <th>C_Hi_2338</th>\n",
       "      <td>9590</td>\n",
       "      <td>9587</td>\n",
       "      <td>18197</td>\n",
       "    </tr>\n",
       "    <tr>\n",
       "      <th>C_Hi_2339</th>\n",
       "      <td>5452</td>\n",
       "      <td>3074</td>\n",
       "      <td>8163</td>\n",
       "    </tr>\n",
       "    <tr>\n",
       "      <th>C_Hi_BJ</th>\n",
       "      <td>3870</td>\n",
       "      <td>4560</td>\n",
       "      <td>7639</td>\n",
       "    </tr>\n",
       "    <tr>\n",
       "      <th>C_Hi_GW16</th>\n",
       "      <td>14484</td>\n",
       "      <td>3258</td>\n",
       "      <td>18602</td>\n",
       "    </tr>\n",
       "    <tr>\n",
       "      <th>C_Hi_GW21</th>\n",
       "      <td>7646</td>\n",
       "      <td>16255</td>\n",
       "      <td>11768</td>\n",
       "    </tr>\n",
       "    <tr>\n",
       "      <th>C_Hi_HL60</th>\n",
       "      <td>13612</td>\n",
       "      <td>16874</td>\n",
       "      <td>16683</td>\n",
       "    </tr>\n",
       "    <tr>\n",
       "      <th>C_Hi_K562</th>\n",
       "      <td>7897</td>\n",
       "      <td>7008</td>\n",
       "      <td>7898</td>\n",
       "    </tr>\n",
       "    <tr>\n",
       "      <th>C_Hi_Kera</th>\n",
       "      <td>6529</td>\n",
       "      <td>9572</td>\n",
       "      <td>17013</td>\n",
       "    </tr>\n",
       "    <tr>\n",
       "      <th>C_Hi_NPC</th>\n",
       "      <td>3855</td>\n",
       "      <td>11381</td>\n",
       "      <td>3878</td>\n",
       "    </tr>\n",
       "    <tr>\n",
       "      <th>C_Hi_iPS</th>\n",
       "      <td>4022</td>\n",
       "      <td>9819</td>\n",
       "      <td>10525</td>\n",
       "    </tr>\n",
       "  </tbody>\n",
       "</table>\n",
       "</div>"
      ],
      "text/plain": [
       "           Marker_1  Marker_2  Marker_3\n",
       "C_Hi_2338      9590      9587     18197\n",
       "C_Hi_2339      5452      3074      8163\n",
       "C_Hi_BJ        3870      4560      7639\n",
       "C_Hi_GW16     14484      3258     18602\n",
       "C_Hi_GW21      7646     16255     11768\n",
       "C_Hi_HL60     13612     16874     16683\n",
       "C_Hi_K562      7897      7008      7898\n",
       "C_Hi_Kera      6529      9572     17013\n",
       "C_Hi_NPC       3855     11381      3878\n",
       "C_Hi_iPS       4022      9819     10525"
      ]
     },
     "execution_count": 9,
     "metadata": {},
     "output_type": "execute_result"
    }
   ],
   "source": [
    "pollen.get_markers(ind_return=True)"
   ]
  },
  {
   "cell_type": "markdown",
   "id": "e12f6347",
   "metadata": {},
   "source": [
    "Data matrix can be in sparse matrix other than `numpy.ndarray` For example:"
   ]
  },
  {
   "cell_type": "code",
   "execution_count": 10,
   "id": "ee232542",
   "metadata": {},
   "outputs": [
    {
     "name": "stdout",
     "output_type": "stream",
     "text": [
      "(301, 23730)\n",
      "<class 'scipy.sparse.csr.csr_matrix'>\n"
     ]
    },
    {
     "data": {
      "text/plain": [
       "<301x23730 sparse matrix of type '<class 'numpy.float64'>'\n",
       "\twith 2347117 stored elements in Compressed Sparse Row format>"
      ]
     },
     "execution_count": 10,
     "metadata": {},
     "output_type": "execute_result"
    }
   ],
   "source": [
    "from scipy import sparse\n",
    "pollen_data = sparse.csr_matrix(pollen_data)\n",
    "print(pollen_data.shape)\n",
    "print(type(pollen_data))\n",
    "pollen_data"
   ]
  },
  {
   "cell_type": "code",
   "execution_count": 11,
   "id": "a32382fb",
   "metadata": {},
   "outputs": [
    {
     "name": "stdout",
     "output_type": "stream",
     "text": [
      "-> Eliminating low expression genes\n",
      "-> Selecting cluster-specific candidate marker genes\n",
      "-> Selecting  markers for each cluster\n"
     ]
    },
    {
     "data": {
      "text/html": [
       "<div>\n",
       "<style scoped>\n",
       "    .dataframe tbody tr th:only-of-type {\n",
       "        vertical-align: middle;\n",
       "    }\n",
       "\n",
       "    .dataframe tbody tr th {\n",
       "        vertical-align: top;\n",
       "    }\n",
       "\n",
       "    .dataframe thead th {\n",
       "        text-align: right;\n",
       "    }\n",
       "</style>\n",
       "<table border=\"1\" class=\"dataframe\">\n",
       "  <thead>\n",
       "    <tr style=\"text-align: right;\">\n",
       "      <th></th>\n",
       "      <th>Marker_1</th>\n",
       "      <th>Marker_2</th>\n",
       "      <th>Marker_3</th>\n",
       "    </tr>\n",
       "  </thead>\n",
       "  <tbody>\n",
       "    <tr>\n",
       "      <th>C_Hi_2338</th>\n",
       "      <td>KRT86</td>\n",
       "      <td>KRT83</td>\n",
       "      <td>S100A9</td>\n",
       "    </tr>\n",
       "    <tr>\n",
       "      <th>C_Hi_2339</th>\n",
       "      <td>ELK2AP</td>\n",
       "      <td>CD27</td>\n",
       "      <td>HLA-DQA2</td>\n",
       "    </tr>\n",
       "    <tr>\n",
       "      <th>C_Hi_BJ</th>\n",
       "      <td>COL6A3</td>\n",
       "      <td>DCN</td>\n",
       "      <td>GREM1</td>\n",
       "    </tr>\n",
       "    <tr>\n",
       "      <th>C_Hi_GW16</th>\n",
       "      <td>NNAT</td>\n",
       "      <td>CDO1</td>\n",
       "      <td>SETBP1</td>\n",
       "    </tr>\n",
       "    <tr>\n",
       "      <th>C_Hi_GW21</th>\n",
       "      <td>GRIA2</td>\n",
       "      <td>PLXNA4</td>\n",
       "      <td>MAPT</td>\n",
       "    </tr>\n",
       "    <tr>\n",
       "      <th>C_Hi_HL60</th>\n",
       "      <td>MPO</td>\n",
       "      <td>PRTN3</td>\n",
       "      <td>PRG2</td>\n",
       "    </tr>\n",
       "    <tr>\n",
       "      <th>C_Hi_K562</th>\n",
       "      <td>HBG1</td>\n",
       "      <td>GAGE4</td>\n",
       "      <td>HBG2</td>\n",
       "    </tr>\n",
       "    <tr>\n",
       "      <th>C_Hi_Kera</th>\n",
       "      <td>FGFBP1</td>\n",
       "      <td>KRT6C</td>\n",
       "      <td>PTHLH</td>\n",
       "    </tr>\n",
       "    <tr>\n",
       "      <th>C_Hi_NPC</th>\n",
       "      <td>COL2A1</td>\n",
       "      <td>LRP2</td>\n",
       "      <td>COL9A1</td>\n",
       "    </tr>\n",
       "    <tr>\n",
       "      <th>C_Hi_iPS</th>\n",
       "      <td>CRABP1</td>\n",
       "      <td>LECT1</td>\n",
       "      <td>LOC100505817</td>\n",
       "    </tr>\n",
       "  </tbody>\n",
       "</table>\n",
       "</div>"
      ],
      "text/plain": [
       "          Marker_1 Marker_2      Marker_3\n",
       "C_Hi_2338    KRT86    KRT83        S100A9\n",
       "C_Hi_2339   ELK2AP     CD27      HLA-DQA2\n",
       "C_Hi_BJ     COL6A3      DCN         GREM1\n",
       "C_Hi_GW16     NNAT     CDO1        SETBP1\n",
       "C_Hi_GW21    GRIA2   PLXNA4          MAPT\n",
       "C_Hi_HL60      MPO    PRTN3          PRG2\n",
       "C_Hi_K562     HBG1    GAGE4          HBG2\n",
       "C_Hi_Kera   FGFBP1    KRT6C         PTHLH\n",
       "C_Hi_NPC    COL2A1     LRP2        COL9A1\n",
       "C_Hi_iPS    CRABP1    LECT1  LOC100505817"
      ]
     },
     "execution_count": 11,
     "metadata": {},
     "output_type": "execute_result"
    }
   ],
   "source": [
    "pollen = sm.ScMags(data=pollen_data, labels=pollen_labels, gene_ann=gene_names)\n",
    "pollen.filter_genes()\n",
    "pollen.sel_clust_marker()\n",
    "pollen.get_markers()"
   ]
  }
 ],
 "metadata": {
  "kernelspec": {
   "display_name": "Python 3",
   "language": "python",
   "name": "python3"
  },
  "language_info": {
   "codemirror_mode": {
    "name": "ipython",
    "version": 3
   },
   "file_extension": ".py",
   "mimetype": "text/x-python",
   "name": "python",
   "nbconvert_exporter": "python",
   "pygments_lexer": "ipython3",
   "version": "3.8.8"
  }
 },
 "nbformat": 4,
 "nbformat_minor": 5
}

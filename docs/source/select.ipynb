{
 "cells": [
  {
   "cell_type": "markdown",
   "id": "6d76f017",
   "metadata": {},
   "source": [
    "#  Select Markers\n",
    "\n",
    "* This tutorial shows how to select markers with the **scmags** package.\n",
    "\n",
    "\n",
    "Let's perform these operations with the baron_h1 data set in the package.\n",
    "\n",
    "For this, we first import the package."
   ]
  },
  {
   "cell_type": "code",
   "execution_count": 1,
   "id": "7df8a701",
   "metadata": {},
   "outputs": [],
   "source": [
    "import scmags as mg"
   ]
  },
  {
   "cell_type": "markdown",
   "id": "45455b40",
   "metadata": {},
   "source": [
    "Then we can start the operations by loading the dataset."
   ]
  },
  {
   "cell_type": "code",
   "execution_count": 2,
   "id": "e40de8fa",
   "metadata": {},
   "outputs": [],
   "source": [
    "baron_h1 = mg.datasets.baron_h1()"
   ]
  },
  {
   "cell_type": "markdown",
   "id": "df3d347b",
   "metadata": {},
   "source": [
    "## Filter Genes\n",
    "First, redundant genes need to be filtered out for computational efficiency."
   ]
  },
  {
   "cell_type": "code",
   "execution_count": 3,
   "id": "89adfa13",
   "metadata": {},
   "outputs": [
    {
     "name": "stdout",
     "output_type": "stream",
     "text": [
      "-> Eliminating low expression genes\n",
      "-> Selecting cluster-specific candidate marker genes\n"
     ]
    }
   ],
   "source": [
    "baron_h1.filter_genes()"
   ]
  },
  {
   "cell_type": "markdown",
   "id": "f3addee7",
   "metadata": {},
   "source": [
    "Here's how you can view the remaining genes after filtering\\\n",
    "At the output of this function, a dictionary structure is returned, and each key corresponds to a cluster."
   ]
  },
  {
   "cell_type": "code",
   "execution_count": 4,
   "id": "9556d8f6",
   "metadata": {},
   "outputs": [
    {
     "data": {
      "text/plain": [
       "{'acinar': ['ALB',\n",
       "  'ALDOB',\n",
       "  'CEL',\n",
       "  'CELA2A',\n",
       "  'CUZD1',\n",
       "  'GP2',\n",
       "  'KLK1',\n",
       "  'PDIA2',\n",
       "  'PNLIPRP1',\n",
       "  'PNLIPRP2'],\n",
       " 'activated_stellate': ['ADAMTS12',\n",
       "  'COL6A3',\n",
       "  'CRLF1',\n",
       "  'FBN1',\n",
       "  'FMOD',\n",
       "  'GGT5',\n",
       "  'LAMC3',\n",
       "  'SFRP2',\n",
       "  'THBS2',\n",
       "  'VCAN']}"
      ]
     },
     "execution_count": 4,
     "metadata": {},
     "output_type": "execute_result"
    }
   ],
   "source": [
    "rem_genes = baron_h1.get_filter_genes()\n",
    "dict(list(rem_genes.items())[0:2])"
   ]
  },
  {
   "cell_type": "markdown",
   "id": "bbce83d7",
   "metadata": {},
   "source": [
    "If you want, you can display the corresponding indexes in the data matrix."
   ]
  },
  {
   "cell_type": "code",
   "execution_count": 5,
   "id": "9f348aa2",
   "metadata": {},
   "outputs": [
    {
     "data": {
      "text/plain": [
       "{'acinar': array([  550,   572,  3055,  3057,  4062,  6872,  8968, 12577, 13082,\n",
       "        13083]),\n",
       " 'activated_stellate': array([  276,  3637,  3836,  5878,  6179,  6624,  9231, 15293, 17233,\n",
       "        18923]),\n",
       " 'alpha': array([ 2390,  6534,  7966,  8442,  8713, 10734, 11417, 12416, 14361,\n",
       "        15835]),\n",
       " 'beta': array([   68,   322,  1974,  4675,  5342,  6383,  7240, 11265, 13322,\n",
       "        15686]),\n",
       " 'delta': array([ 1449,  4516,  6407,  6543,  9345, 10318, 12504, 14210, 16021,\n",
       "        16794]),\n",
       " 'ductal': array([ 3383,  4203,  9048,  9077, 10397, 13242, 13639, 15205, 16828,\n",
       "        17311]),\n",
       " 'endothelial': array([  357,  3402,  4968,  5360,  6159,  8756, 12396, 14586, 16167,\n",
       "        19048]),\n",
       " 'epsilon': array([ 6027,  6299,  6358,  6637,  9723, 11320, 12939, 15274, 16388,\n",
       "        19024]),\n",
       " 'gamma': array([  932,  6357,  9325, 10138, 11153, 12375, 13822, 16601, 18319,\n",
       "        18672]),\n",
       " 'macrophage': array([ 1971,  1973,  3888,  4127,  7307,  7541,  8490, 12935, 15095,\n",
       "        15487]),\n",
       " 'mast': array([   63,   252,  2020,  2816,  3734,  6502,  8896, 14929, 17869,\n",
       "        17870]),\n",
       " 'quiescent_stellate': array([  315,   372,  3930,  4987,  6668,  8266,  8633, 11057, 14362,\n",
       "        19198]),\n",
       " 'schwann': array([ 1728,  3859,  4579,  6356,  6911,  7961,  8585, 15146, 16160,\n",
       "        16509]),\n",
       " 't_cell': array([ 2729,  2842,  2860,  6503,  8385, 12389, 16339, 17887, 18058,\n",
       "        19329])}"
      ]
     },
     "execution_count": 5,
     "metadata": {},
     "output_type": "execute_result"
    }
   ],
   "source": [
    "baron_h1.get_filter_genes(ind_return=True)"
   ]
  },
  {
   "cell_type": "markdown",
   "id": "209f5b91",
   "metadata": {},
   "source": [
    "If you have not set an intra-cluster expression rate threshold, you can also view the automatically determined thresholds."
   ]
  },
  {
   "cell_type": "code",
   "execution_count": 6,
   "id": "0f0d027a",
   "metadata": {},
   "outputs": [
    {
     "data": {
      "text/plain": [
       "{'acinar': 0.6545454561710358,\n",
       " 'activated_stellate': 0.7058823555707932,\n",
       " 'alpha': 0.6525423675775528,\n",
       " 'beta': 0.6416284441947937,\n",
       " 'delta': 0.6355140209197998,\n",
       " 'ductal': 0.6791666597127914,\n",
       " 'endothelial': 0.6192307695746422,\n",
       " 'epsilon': 0.6538461595773697,\n",
       " 'gamma': 0.6285714358091354,\n",
       " 'macrophage': 0.6785714328289032,\n",
       " 'mast': 0.625,\n",
       " 'quiescent_stellate': 0.614130437374115,\n",
       " 'schwann': 0.7000000029802322,\n",
       " 't_cell': 0.75}"
      ]
     },
     "execution_count": 6,
     "metadata": {},
     "output_type": "execute_result"
    }
   ],
   "source": [
    "baron_h1.get_filt_cluster_thresholds"
   ]
  },
  {
   "cell_type": "markdown",
   "id": "fdf7dedd",
   "metadata": {},
   "source": [
    "If you don't want automatic threshold determination for filtering, you can set a threshold yourself.\\\n",
    "This value should be between 0-1."
   ]
  },
  {
   "cell_type": "code",
   "execution_count": 7,
   "id": "538bce60",
   "metadata": {},
   "outputs": [
    {
     "name": "stdout",
     "output_type": "stream",
     "text": [
      "-> Eliminating low expression genes\n",
      "-> Selecting cluster-specific candidate marker genes\n"
     ]
    }
   ],
   "source": [
    "baron_h1.filter_genes(in_cls_thres=0.7)"
   ]
  },
  {
   "cell_type": "markdown",
   "id": "54c08ece",
   "metadata": {},
   "source": [
    "As can be seen, the threshold was set as 70% for all cells.\\\n",
    "In this case, genes expressed in less than 70% of the cells in the cluster are filtered out."
   ]
  },
  {
   "cell_type": "code",
   "execution_count": 8,
   "id": "278b5d18",
   "metadata": {},
   "outputs": [
    {
     "data": {
      "text/plain": [
       "{'acinar': 0.7,\n",
       " 'activated_stellate': 0.7,\n",
       " 'alpha': 0.7,\n",
       " 'beta': 0.7,\n",
       " 'delta': 0.7,\n",
       " 'ductal': 0.7,\n",
       " 'endothelial': 0.7,\n",
       " 'epsilon': 0.7,\n",
       " 'gamma': 0.7,\n",
       " 'macrophage': 0.7,\n",
       " 'mast': 0.7,\n",
       " 'quiescent_stellate': 0.7,\n",
       " 'schwann': 0.7,\n",
       " 't_cell': 0.7}"
      ]
     },
     "execution_count": 8,
     "metadata": {},
     "output_type": "execute_result"
    }
   ],
   "source": [
    "baron_h1.get_filt_cluster_thresholds"
   ]
  },
  {
   "cell_type": "markdown",
   "id": "0313bc1d",
   "metadata": {},
   "source": [
    "You can also set the number of genes that will remain after filtering. \\\n",
    "This may be necessary when selecting more marker genes.Because marker selection is carried out on the remaining genes after filtering.\\\n",
    "As can be seen in the example, when the parameter is set to 20, 20 genes remain after filtering for each cluster."
   ]
  },
  {
   "cell_type": "code",
   "execution_count": 9,
   "id": "388bba3c",
   "metadata": {},
   "outputs": [
    {
     "name": "stdout",
     "output_type": "stream",
     "text": [
      "-> Eliminating low expression genes\n",
      "-> Selecting cluster-specific candidate marker genes\n"
     ]
    },
    {
     "data": {
      "text/plain": [
       "{'acinar': array([  550,   572,   799,  3055,  3057,  3733,  4020,  4062,  6872,\n",
       "         7103,  7104,  8968, 10655, 10732, 12577, 13081, 13082, 13083,\n",
       "        13620, 16742]),\n",
       " 'activated_stellate': array([  276,   405,  1990,  3632,  3633,  3637,  3836,  5878,  6179,\n",
       "         6182,  6624,  9231,  9504,  9691, 10387, 15293, 17233, 17850,\n",
       "        18923, 19025]),\n",
       " 'alpha': array([ 2390,  3235,  6534,  6730,  7966,  8442,  8713, 10734, 11417,\n",
       "        12291, 12339, 12416, 12508, 12637, 14361, 15275, 15835, 15991,\n",
       "        17366, 18944]),\n",
       " 'beta': array([   68,   322,  1974,  2995,  3533,  4675,  4993,  5342,  6383,\n",
       "         6420,  7240, 10627, 11265, 12321, 13322, 13959, 14098, 14999,\n",
       "        15686, 18304]),\n",
       " 'delta': array([  959,  1449,  1557,  2353,  4516,  6407,  6543,  9345, 10068,\n",
       "        10318, 11279, 12285, 12504, 12506, 14210, 15098, 16021, 16729,\n",
       "        16794, 17839]),\n",
       " 'ductal': array([  458,   809,  3383,  3401,  4203,  4835,  5129,  6855,  8818,\n",
       "         9048,  9077,  9840, 10397, 13242, 13639, 15205, 15912, 16828,\n",
       "        17129, 17311]),\n",
       " 'endothelial': array([  357,  2879,  3402,  4968,  5356,  5360,  6159,  7892,  8756,\n",
       "        12361, 12396, 12627, 13041, 13115, 14586, 14892, 16167, 16564,\n",
       "        17277, 19048]),\n",
       " 'epsilon': array([  190,   878,  2383,  2979,  6027,  6212,  6299,  6358,  6637,\n",
       "         9723, 11148, 11320, 11473, 12939, 13229, 13895, 15211, 15274,\n",
       "        16388, 19024]),\n",
       " 'gamma': array([  932,  2159,  3236,  6357,  7869,  9325, 10138, 11153, 11391,\n",
       "        12296, 12375, 12507, 12630, 13386, 13822, 14998, 16601, 17665,\n",
       "        18319, 18672]),\n",
       " 'macrophage': array([  482,  1971,  1973,  2014,  3888,  4127,  7307,  7535,  7536,\n",
       "         7541,  7545,  7547,  8490, 11002, 12935, 15095, 15160, 15487,\n",
       "        15841, 16307]),\n",
       " 'mast': array([   63,   252,   290,  1026,  2020,  2816,  3734,  6502,  7308,\n",
       "         8896,  9696, 13773, 14118, 14396, 14929, 15163, 15544, 15773,\n",
       "        17869, 17870]),\n",
       " 'quiescent_stellate': array([  274,   287,   315,   372,  1713,  1823,  3930,  4987,  6668,\n",
       "         7906,  8247,  8266,  8469,  8633,  8922, 11057, 11455, 14362,\n",
       "        17186, 19198]),\n",
       " 'schwann': array([ 1728,  3859,  4579,  4988,  5199,  5551,  6356,  6911,  7961,\n",
       "         8585, 10122, 10469, 11171, 11492, 12598, 13240, 14221, 15146,\n",
       "        16160, 16509]),\n",
       " 't_cell': array([ 2729,  2840,  2842,  2854,  2860,  5280,  5692,  6503,  8385,\n",
       "         9730, 11167, 12389, 13946, 14003, 14086, 16339, 17887, 18058,\n",
       "        19329, 19436])}"
      ]
     },
     "execution_count": 9,
     "metadata": {},
     "output_type": "execute_result"
    }
   ],
   "source": [
    "baron_h1.filter_genes(nof_sel=20)\n",
    "baron_h1.get_filter_genes(ind_return=True)"
   ]
  },
  {
   "cell_type": "markdown",
   "id": "e2aa4860",
   "metadata": {},
   "source": [
    "## Select Markers\n",
    "\n",
    "After the filtering process, you can select the markers."
   ]
  },
  {
   "cell_type": "code",
   "execution_count": 10,
   "id": "d5047d64",
   "metadata": {},
   "outputs": [
    {
     "name": "stdout",
     "output_type": "stream",
     "text": [
      "-> Selecting  markers for each cluster\n"
     ]
    }
   ],
   "source": [
    "baron_h1.sel_clust_marker()"
   ]
  },
  {
   "cell_type": "markdown",
   "id": "55ef23e4",
   "metadata": {},
   "source": [
    "You can view the selected markers as follows."
   ]
  },
  {
   "cell_type": "code",
   "execution_count": 11,
   "id": "3243a1b9",
   "metadata": {},
   "outputs": [
    {
     "data": {
      "text/html": [
       "<div>\n",
       "<style scoped>\n",
       "    .dataframe tbody tr th:only-of-type {\n",
       "        vertical-align: middle;\n",
       "    }\n",
       "\n",
       "    .dataframe tbody tr th {\n",
       "        vertical-align: top;\n",
       "    }\n",
       "\n",
       "    .dataframe thead th {\n",
       "        text-align: right;\n",
       "    }\n",
       "</style>\n",
       "<table border=\"1\" class=\"dataframe\">\n",
       "  <thead>\n",
       "    <tr style=\"text-align: right;\">\n",
       "      <th></th>\n",
       "      <th>Marker_1</th>\n",
       "      <th>Marker_2</th>\n",
       "      <th>Marker_3</th>\n",
       "    </tr>\n",
       "  </thead>\n",
       "  <tbody>\n",
       "    <tr>\n",
       "      <th>C_acinar</th>\n",
       "      <td>PNLIPRP1</td>\n",
       "      <td>CEL</td>\n",
       "      <td>CPA2</td>\n",
       "    </tr>\n",
       "    <tr>\n",
       "      <th>C_activated_stellate</th>\n",
       "      <td>CRLF1</td>\n",
       "      <td>SFRP2</td>\n",
       "      <td>COL6A3</td>\n",
       "    </tr>\n",
       "    <tr>\n",
       "      <th>C_alpha</th>\n",
       "      <td>IRX2</td>\n",
       "      <td>GC</td>\n",
       "      <td>NPNT</td>\n",
       "    </tr>\n",
       "    <tr>\n",
       "      <th>C_beta</th>\n",
       "      <td>ADCYAP1</td>\n",
       "      <td>HADH</td>\n",
       "      <td>G6PC2</td>\n",
       "    </tr>\n",
       "    <tr>\n",
       "      <th>C_delta</th>\n",
       "      <td>LEPR</td>\n",
       "      <td>MIR7.3HG</td>\n",
       "      <td>PCP4</td>\n",
       "    </tr>\n",
       "    <tr>\n",
       "      <th>C_ductal</th>\n",
       "      <td>MMP7</td>\n",
       "      <td>KRT19</td>\n",
       "      <td>TACSTD2</td>\n",
       "    </tr>\n",
       "    <tr>\n",
       "      <th>C_endothelial</th>\n",
       "      <td>PLVAP</td>\n",
       "      <td>PECAM1</td>\n",
       "      <td>CD93</td>\n",
       "    </tr>\n",
       "    <tr>\n",
       "      <th>C_epsilon</th>\n",
       "      <td>GHRL</td>\n",
       "      <td>FRZB</td>\n",
       "      <td>NNMT</td>\n",
       "    </tr>\n",
       "    <tr>\n",
       "      <th>C_gamma</th>\n",
       "      <td>PPY</td>\n",
       "      <td>AQP3</td>\n",
       "      <td>STMN2</td>\n",
       "    </tr>\n",
       "    <tr>\n",
       "      <th>C_macrophage</th>\n",
       "      <td>PLA2G7</td>\n",
       "      <td>C1QC</td>\n",
       "      <td>ITGB2</td>\n",
       "    </tr>\n",
       "    <tr>\n",
       "      <th>C_mast</th>\n",
       "      <td>TPSB2</td>\n",
       "      <td>TPSAB1</td>\n",
       "      <td>CPA3</td>\n",
       "    </tr>\n",
       "    <tr>\n",
       "      <th>C_quiescent_stellate</th>\n",
       "      <td>RGS5</td>\n",
       "      <td>NDUFA4L2</td>\n",
       "      <td>EDNRA</td>\n",
       "    </tr>\n",
       "    <tr>\n",
       "      <th>C_schwann</th>\n",
       "      <td>SOX10</td>\n",
       "      <td>SEMA3C</td>\n",
       "      <td>GPM6B</td>\n",
       "    </tr>\n",
       "    <tr>\n",
       "      <th>C_t_cell</th>\n",
       "      <td>CD3D</td>\n",
       "      <td>ZAP70</td>\n",
       "      <td>TRAC</td>\n",
       "    </tr>\n",
       "  </tbody>\n",
       "</table>\n",
       "</div>"
      ],
      "text/plain": [
       "                      Marker_1  Marker_2 Marker_3\n",
       "C_acinar              PNLIPRP1       CEL     CPA2\n",
       "C_activated_stellate     CRLF1     SFRP2   COL6A3\n",
       "C_alpha                   IRX2        GC     NPNT\n",
       "C_beta                 ADCYAP1      HADH    G6PC2\n",
       "C_delta                   LEPR  MIR7.3HG     PCP4\n",
       "C_ductal                  MMP7     KRT19  TACSTD2\n",
       "C_endothelial            PLVAP    PECAM1     CD93\n",
       "C_epsilon                 GHRL      FRZB     NNMT\n",
       "C_gamma                    PPY      AQP3    STMN2\n",
       "C_macrophage            PLA2G7      C1QC    ITGB2\n",
       "C_mast                   TPSB2    TPSAB1     CPA3\n",
       "C_quiescent_stellate      RGS5  NDUFA4L2    EDNRA\n",
       "C_schwann                SOX10    SEMA3C    GPM6B\n",
       "C_t_cell                  CD3D     ZAP70     TRAC"
      ]
     },
     "execution_count": 11,
     "metadata": {},
     "output_type": "execute_result"
    }
   ],
   "source": [
    "baron_h1.get_markers()"
   ]
  },
  {
   "cell_type": "markdown",
   "id": "aabb66fe",
   "metadata": {},
   "source": [
    "Or you can see the corresponding indexes in the data matrix."
   ]
  },
  {
   "cell_type": "code",
   "execution_count": 12,
   "id": "5011fddf",
   "metadata": {},
   "outputs": [
    {
     "data": {
      "text/html": [
       "<div>\n",
       "<style scoped>\n",
       "    .dataframe tbody tr th:only-of-type {\n",
       "        vertical-align: middle;\n",
       "    }\n",
       "\n",
       "    .dataframe tbody tr th {\n",
       "        vertical-align: top;\n",
       "    }\n",
       "\n",
       "    .dataframe thead th {\n",
       "        text-align: right;\n",
       "    }\n",
       "</style>\n",
       "<table border=\"1\" class=\"dataframe\">\n",
       "  <thead>\n",
       "    <tr style=\"text-align: right;\">\n",
       "      <th></th>\n",
       "      <th>Marker_1</th>\n",
       "      <th>Marker_2</th>\n",
       "      <th>Marker_3</th>\n",
       "    </tr>\n",
       "  </thead>\n",
       "  <tbody>\n",
       "    <tr>\n",
       "      <th>C_acinar</th>\n",
       "      <td>13082</td>\n",
       "      <td>3055</td>\n",
       "      <td>3733</td>\n",
       "    </tr>\n",
       "    <tr>\n",
       "      <th>C_activated_stellate</th>\n",
       "      <td>3836</td>\n",
       "      <td>15293</td>\n",
       "      <td>3637</td>\n",
       "    </tr>\n",
       "    <tr>\n",
       "      <th>C_alpha</th>\n",
       "      <td>8442</td>\n",
       "      <td>6534</td>\n",
       "      <td>11417</td>\n",
       "    </tr>\n",
       "    <tr>\n",
       "      <th>C_beta</th>\n",
       "      <td>322</td>\n",
       "      <td>7240</td>\n",
       "      <td>6383</td>\n",
       "    </tr>\n",
       "    <tr>\n",
       "      <th>C_delta</th>\n",
       "      <td>9345</td>\n",
       "      <td>10318</td>\n",
       "      <td>12504</td>\n",
       "    </tr>\n",
       "    <tr>\n",
       "      <th>C_ductal</th>\n",
       "      <td>10397</td>\n",
       "      <td>9048</td>\n",
       "      <td>16828</td>\n",
       "    </tr>\n",
       "    <tr>\n",
       "      <th>C_endothelial</th>\n",
       "      <td>13041</td>\n",
       "      <td>12627</td>\n",
       "      <td>2879</td>\n",
       "    </tr>\n",
       "    <tr>\n",
       "      <th>C_epsilon</th>\n",
       "      <td>6637</td>\n",
       "      <td>6299</td>\n",
       "      <td>11320</td>\n",
       "    </tr>\n",
       "    <tr>\n",
       "      <th>C_gamma</th>\n",
       "      <td>13386</td>\n",
       "      <td>932</td>\n",
       "      <td>16601</td>\n",
       "    </tr>\n",
       "    <tr>\n",
       "      <th>C_macrophage</th>\n",
       "      <td>12935</td>\n",
       "      <td>1973</td>\n",
       "      <td>8490</td>\n",
       "    </tr>\n",
       "    <tr>\n",
       "      <th>C_mast</th>\n",
       "      <td>17870</td>\n",
       "      <td>17869</td>\n",
       "      <td>3734</td>\n",
       "    </tr>\n",
       "    <tr>\n",
       "      <th>C_quiescent_stellate</th>\n",
       "      <td>14362</td>\n",
       "      <td>11057</td>\n",
       "      <td>4987</td>\n",
       "    </tr>\n",
       "    <tr>\n",
       "      <th>C_schwann</th>\n",
       "      <td>16160</td>\n",
       "      <td>15146</td>\n",
       "      <td>6911</td>\n",
       "    </tr>\n",
       "    <tr>\n",
       "      <th>C_t_cell</th>\n",
       "      <td>2842</td>\n",
       "      <td>19329</td>\n",
       "      <td>17887</td>\n",
       "    </tr>\n",
       "  </tbody>\n",
       "</table>\n",
       "</div>"
      ],
      "text/plain": [
       "                      Marker_1  Marker_2  Marker_3\n",
       "C_acinar                 13082      3055      3733\n",
       "C_activated_stellate      3836     15293      3637\n",
       "C_alpha                   8442      6534     11417\n",
       "C_beta                     322      7240      6383\n",
       "C_delta                   9345     10318     12504\n",
       "C_ductal                 10397      9048     16828\n",
       "C_endothelial            13041     12627      2879\n",
       "C_epsilon                 6637      6299     11320\n",
       "C_gamma                  13386       932     16601\n",
       "C_macrophage             12935      1973      8490\n",
       "C_mast                   17870     17869      3734\n",
       "C_quiescent_stellate     14362     11057      4987\n",
       "C_schwann                16160     15146      6911\n",
       "C_t_cell                  2842     19329     17887"
      ]
     },
     "execution_count": 12,
     "metadata": {},
     "output_type": "execute_result"
    }
   ],
   "source": [
    "baron_h1.get_markers(ind_return = True)"
   ]
  },
  {
   "cell_type": "markdown",
   "id": "53999c82",
   "metadata": {},
   "source": [
    "You can also pull selected markers from the data matrix."
   ]
  },
  {
   "cell_type": "code",
   "execution_count": 13,
   "id": "f090854b",
   "metadata": {},
   "outputs": [
    {
     "data": {
      "text/plain": [
       "{'acinar': array([[4.9068906 , 3.5849625 , 6.89481776],\n",
       "        [2.80735492, 3.169925  , 6.82017896],\n",
       "        [4.39231742, 4.70043972, 5.4918531 ],\n",
       "        ...,\n",
       "        [0.        , 0.        , 0.        ],\n",
       "        [0.        , 0.        , 0.        ],\n",
       "        [0.        , 0.        , 0.        ]]),\n",
       " 'activated_stellate': array([[0., 0., 0.],\n",
       "        [0., 0., 0.],\n",
       "        [0., 0., 0.],\n",
       "        ...,\n",
       "        [0., 0., 0.],\n",
       "        [0., 0., 0.],\n",
       "        [0., 0., 0.]]),\n",
       " 'alpha': array([[0., 0., 0.],\n",
       "        [0., 0., 0.],\n",
       "        [0., 0., 0.],\n",
       "        ...,\n",
       "        [0., 0., 0.],\n",
       "        [0., 0., 0.],\n",
       "        [0., 0., 0.]]),\n",
       " 'beta': array([[0., 2., 0.],\n",
       "        [0., 1., 0.],\n",
       "        [0., 2., 0.],\n",
       "        ...,\n",
       "        [0., 0., 0.],\n",
       "        [0., 0., 0.],\n",
       "        [0., 0., 0.]]),\n",
       " 'delta': array([[0., 0., 0.],\n",
       "        [0., 0., 0.],\n",
       "        [0., 0., 0.],\n",
       "        ...,\n",
       "        [0., 0., 0.],\n",
       "        [0., 1., 1.],\n",
       "        [0., 0., 0.]]),\n",
       " 'ductal': array([[0.        , 0.        , 0.        ],\n",
       "        [0.        , 2.80735492, 4.24792751],\n",
       "        [0.        , 0.        , 2.5849625 ],\n",
       "        ...,\n",
       "        [0.        , 0.        , 0.        ],\n",
       "        [0.        , 0.        , 0.        ],\n",
       "        [0.        , 0.        , 0.        ]]),\n",
       " 'endothelial': array([[0.      , 0.      , 0.      ],\n",
       "        [0.      , 0.      , 0.      ],\n",
       "        [0.      , 0.      , 0.      ],\n",
       "        ...,\n",
       "        [3.169925, 2.      , 3.      ],\n",
       "        [0.      , 0.      , 0.      ],\n",
       "        [0.      , 0.      , 0.      ]]),\n",
       " 'epsilon': array([[0., 0., 0.],\n",
       "        [0., 0., 0.],\n",
       "        [1., 0., 0.],\n",
       "        ...,\n",
       "        [0., 0., 0.],\n",
       "        [0., 0., 0.],\n",
       "        [0., 0., 0.]]),\n",
       " 'gamma': array([[2.32192809, 0.        , 0.        ],\n",
       "        [1.        , 1.5849625 , 0.        ],\n",
       "        [1.5849625 , 0.        , 0.        ],\n",
       "        ...,\n",
       "        [0.        , 0.        , 0.        ],\n",
       "        [0.        , 0.        , 1.        ],\n",
       "        [2.        , 0.        , 0.        ]]),\n",
       " 'macrophage': array([[0., 0., 0.],\n",
       "        [0., 0., 0.],\n",
       "        [0., 0., 0.],\n",
       "        ...,\n",
       "        [0., 0., 0.],\n",
       "        [0., 0., 0.],\n",
       "        [0., 0., 0.]]),\n",
       " 'mast': array([[0., 0., 0.],\n",
       "        [0., 0., 0.],\n",
       "        [0., 0., 0.],\n",
       "        ...,\n",
       "        [0., 0., 0.],\n",
       "        [0., 0., 0.],\n",
       "        [0., 0., 0.]]),\n",
       " 'quiescent_stellate': array([[0.        , 0.        , 0.        ],\n",
       "        [0.        , 0.        , 0.        ],\n",
       "        [0.        , 0.        , 0.        ],\n",
       "        ...,\n",
       "        [0.        , 0.        , 0.        ],\n",
       "        [0.        , 0.        , 0.        ],\n",
       "        [2.32192809, 1.5849625 , 1.        ]]),\n",
       " 'schwann': array([[0., 0., 0.],\n",
       "        [0., 0., 0.],\n",
       "        [0., 0., 0.],\n",
       "        ...,\n",
       "        [0., 0., 0.],\n",
       "        [0., 0., 0.],\n",
       "        [0., 0., 0.]]),\n",
       " 't_cell': array([[0., 0., 0.],\n",
       "        [0., 0., 0.],\n",
       "        [0., 0., 0.],\n",
       "        ...,\n",
       "        [0., 0., 0.],\n",
       "        [0., 0., 0.],\n",
       "        [0., 0., 0.]])}"
      ]
     },
     "execution_count": 13,
     "metadata": {},
     "output_type": "execute_result"
    }
   ],
   "source": [
    "mark_data = baron_h1.get_marker_data()\n",
    "mark_data"
   ]
  },
  {
   "cell_type": "markdown",
   "id": "9fe8f89e",
   "metadata": {},
   "source": [
    "5 markers are selected by default for each cluster. You can access the selected markers for each cluster with the dictionary keys."
   ]
  },
  {
   "cell_type": "code",
   "execution_count": 14,
   "id": "b8b75e4e",
   "metadata": {},
   "outputs": [
    {
     "data": {
      "text/plain": [
       "array([[0., 0., 0.],\n",
       "       [0., 0., 0.],\n",
       "       [0., 0., 0.],\n",
       "       ...,\n",
       "       [0., 0., 0.],\n",
       "       [0., 0., 0.],\n",
       "       [0., 0., 0.]])"
      ]
     },
     "execution_count": 14,
     "metadata": {},
     "output_type": "execute_result"
    }
   ],
   "source": [
    "schwann = mark_data['schwann']\n",
    "schwann"
   ]
  },
  {
   "cell_type": "code",
   "execution_count": 15,
   "id": "9782e8cb",
   "metadata": {},
   "outputs": [
    {
     "data": {
      "text/plain": [
       "(1937, 3)"
      ]
     },
     "execution_count": 15,
     "metadata": {},
     "output_type": "execute_result"
    }
   ],
   "source": [
    "schwann.shape"
   ]
  },
  {
   "cell_type": "markdown",
   "id": "8b609c2c",
   "metadata": {},
   "source": [
    "You can also perform marker selection with dynamic programming."
   ]
  },
  {
   "cell_type": "code",
   "execution_count": 16,
   "id": "c0dcca11",
   "metadata": {},
   "outputs": [
    {
     "name": "stdout",
     "output_type": "stream",
     "text": [
      "-> Selecting  markers for each cluster\n",
      "-> |⬛⬛⬛⬛⬛⬛⬛⬛⬛⬛⬛⬛⬛⬛⬛⬛⬛⬛⬛⬛| 100% Number of Clusters With Selected Markers : 14  \n"
     ]
    }
   ],
   "source": [
    "baron_h1.sel_clust_marker(dyn_prog=True)"
   ]
  },
  {
   "cell_type": "markdown",
   "id": "499df1bd",
   "metadata": {},
   "source": [
    "If you want, you can increase the number of markers to be selected."
   ]
  },
  {
   "cell_type": "markdown",
   "id": "e547c9bd",
   "metadata": {},
   "source": [
    "<div class=\"alert alert-info\">\n",
    "\n",
    "**Note**\n",
    "    \n",
    "If you are going to increase the number of markers, make sure that the number of genes remaining after filtering is more than the number of markers to be selected.\n",
    "\n",
    "</div>  "
   ]
  },
  {
   "cell_type": "code",
   "execution_count": 17,
   "id": "ea62584e",
   "metadata": {},
   "outputs": [
    {
     "name": "stdout",
     "output_type": "stream",
     "text": [
      "-> Eliminating low expression genes\n",
      "-> Selecting cluster-specific candidate marker genes\n",
      "-> Selecting  markers for each cluster\n"
     ]
    }
   ],
   "source": [
    "baron_h1.filter_genes(nof_sel=20)\n",
    "baron_h1.sel_clust_marker(nof_markers=10)"
   ]
  },
  {
   "cell_type": "code",
   "execution_count": 18,
   "id": "440a53b6",
   "metadata": {},
   "outputs": [
    {
     "data": {
      "text/html": [
       "<div>\n",
       "<style scoped>\n",
       "    .dataframe tbody tr th:only-of-type {\n",
       "        vertical-align: middle;\n",
       "    }\n",
       "\n",
       "    .dataframe tbody tr th {\n",
       "        vertical-align: top;\n",
       "    }\n",
       "\n",
       "    .dataframe thead th {\n",
       "        text-align: right;\n",
       "    }\n",
       "</style>\n",
       "<table border=\"1\" class=\"dataframe\">\n",
       "  <thead>\n",
       "    <tr style=\"text-align: right;\">\n",
       "      <th></th>\n",
       "      <th>Marker_1</th>\n",
       "      <th>Marker_2</th>\n",
       "      <th>Marker_3</th>\n",
       "      <th>Marker_4</th>\n",
       "      <th>Marker_5</th>\n",
       "      <th>Marker_6</th>\n",
       "      <th>Marker_7</th>\n",
       "      <th>Marker_8</th>\n",
       "      <th>Marker_9</th>\n",
       "      <th>Marker_10</th>\n",
       "    </tr>\n",
       "  </thead>\n",
       "  <tbody>\n",
       "    <tr>\n",
       "      <th>C_acinar</th>\n",
       "      <td>13082</td>\n",
       "      <td>3055</td>\n",
       "      <td>3733</td>\n",
       "      <td>8968</td>\n",
       "      <td>16742</td>\n",
       "      <td>4020</td>\n",
       "      <td>3057</td>\n",
       "      <td>12577</td>\n",
       "      <td>13083</td>\n",
       "      <td>13081</td>\n",
       "    </tr>\n",
       "    <tr>\n",
       "      <th>C_activated_stellate</th>\n",
       "      <td>3836</td>\n",
       "      <td>15293</td>\n",
       "      <td>3637</td>\n",
       "      <td>18923</td>\n",
       "      <td>17233</td>\n",
       "      <td>6179</td>\n",
       "      <td>5878</td>\n",
       "      <td>3632</td>\n",
       "      <td>9231</td>\n",
       "      <td>405</td>\n",
       "    </tr>\n",
       "    <tr>\n",
       "      <th>C_alpha</th>\n",
       "      <td>8442</td>\n",
       "      <td>6534</td>\n",
       "      <td>11417</td>\n",
       "      <td>10734</td>\n",
       "      <td>2390</td>\n",
       "      <td>8713</td>\n",
       "      <td>14361</td>\n",
       "      <td>17366</td>\n",
       "      <td>15991</td>\n",
       "      <td>12291</td>\n",
       "    </tr>\n",
       "    <tr>\n",
       "      <th>C_beta</th>\n",
       "      <td>322</td>\n",
       "      <td>7240</td>\n",
       "      <td>6383</td>\n",
       "      <td>5342</td>\n",
       "      <td>11265</td>\n",
       "      <td>68</td>\n",
       "      <td>13322</td>\n",
       "      <td>1974</td>\n",
       "      <td>15686</td>\n",
       "      <td>4675</td>\n",
       "    </tr>\n",
       "    <tr>\n",
       "      <th>C_delta</th>\n",
       "      <td>9345</td>\n",
       "      <td>10318</td>\n",
       "      <td>12504</td>\n",
       "      <td>1449</td>\n",
       "      <td>14210</td>\n",
       "      <td>6407</td>\n",
       "      <td>4516</td>\n",
       "      <td>6543</td>\n",
       "      <td>959</td>\n",
       "      <td>15098</td>\n",
       "    </tr>\n",
       "    <tr>\n",
       "      <th>C_ductal</th>\n",
       "      <td>10397</td>\n",
       "      <td>9048</td>\n",
       "      <td>16828</td>\n",
       "      <td>3383</td>\n",
       "      <td>13242</td>\n",
       "      <td>9077</td>\n",
       "      <td>13639</td>\n",
       "      <td>17311</td>\n",
       "      <td>4203</td>\n",
       "      <td>809</td>\n",
       "    </tr>\n",
       "    <tr>\n",
       "      <th>C_endothelial</th>\n",
       "      <td>13041</td>\n",
       "      <td>12627</td>\n",
       "      <td>2879</td>\n",
       "      <td>12396</td>\n",
       "      <td>6159</td>\n",
       "      <td>8756</td>\n",
       "      <td>16167</td>\n",
       "      <td>13115</td>\n",
       "      <td>17277</td>\n",
       "      <td>4968</td>\n",
       "    </tr>\n",
       "    <tr>\n",
       "      <th>C_epsilon</th>\n",
       "      <td>6637</td>\n",
       "      <td>6299</td>\n",
       "      <td>11320</td>\n",
       "      <td>16388</td>\n",
       "      <td>19024</td>\n",
       "      <td>9723</td>\n",
       "      <td>6358</td>\n",
       "      <td>12939</td>\n",
       "      <td>6027</td>\n",
       "      <td>190</td>\n",
       "    </tr>\n",
       "    <tr>\n",
       "      <th>C_gamma</th>\n",
       "      <td>13386</td>\n",
       "      <td>932</td>\n",
       "      <td>16601</td>\n",
       "      <td>7869</td>\n",
       "      <td>10138</td>\n",
       "      <td>18672</td>\n",
       "      <td>12375</td>\n",
       "      <td>18319</td>\n",
       "      <td>11391</td>\n",
       "      <td>2159</td>\n",
       "    </tr>\n",
       "    <tr>\n",
       "      <th>C_macrophage</th>\n",
       "      <td>12935</td>\n",
       "      <td>1973</td>\n",
       "      <td>8490</td>\n",
       "      <td>15095</td>\n",
       "      <td>1971</td>\n",
       "      <td>3888</td>\n",
       "      <td>7541</td>\n",
       "      <td>4127</td>\n",
       "      <td>15487</td>\n",
       "      <td>7307</td>\n",
       "    </tr>\n",
       "    <tr>\n",
       "      <th>C_mast</th>\n",
       "      <td>17870</td>\n",
       "      <td>17869</td>\n",
       "      <td>3734</td>\n",
       "      <td>2816</td>\n",
       "      <td>14929</td>\n",
       "      <td>14396</td>\n",
       "      <td>2020</td>\n",
       "      <td>6502</td>\n",
       "      <td>8896</td>\n",
       "      <td>9696</td>\n",
       "    </tr>\n",
       "    <tr>\n",
       "      <th>C_quiescent_stellate</th>\n",
       "      <td>14362</td>\n",
       "      <td>11057</td>\n",
       "      <td>4987</td>\n",
       "      <td>8266</td>\n",
       "      <td>6668</td>\n",
       "      <td>315</td>\n",
       "      <td>19198</td>\n",
       "      <td>372</td>\n",
       "      <td>3930</td>\n",
       "      <td>1823</td>\n",
       "    </tr>\n",
       "    <tr>\n",
       "      <th>C_schwann</th>\n",
       "      <td>16160</td>\n",
       "      <td>15146</td>\n",
       "      <td>6911</td>\n",
       "      <td>12598</td>\n",
       "      <td>3859</td>\n",
       "      <td>1728</td>\n",
       "      <td>16509</td>\n",
       "      <td>6356</td>\n",
       "      <td>4579</td>\n",
       "      <td>7961</td>\n",
       "    </tr>\n",
       "    <tr>\n",
       "      <th>C_t_cell</th>\n",
       "      <td>2842</td>\n",
       "      <td>19329</td>\n",
       "      <td>17887</td>\n",
       "      <td>2729</td>\n",
       "      <td>18058</td>\n",
       "      <td>6503</td>\n",
       "      <td>8385</td>\n",
       "      <td>12389</td>\n",
       "      <td>2840</td>\n",
       "      <td>2854</td>\n",
       "    </tr>\n",
       "  </tbody>\n",
       "</table>\n",
       "</div>"
      ],
      "text/plain": [
       "                      Marker_1  Marker_2  Marker_3  Marker_4  Marker_5  \\\n",
       "C_acinar                 13082      3055      3733      8968     16742   \n",
       "C_activated_stellate      3836     15293      3637     18923     17233   \n",
       "C_alpha                   8442      6534     11417     10734      2390   \n",
       "C_beta                     322      7240      6383      5342     11265   \n",
       "C_delta                   9345     10318     12504      1449     14210   \n",
       "C_ductal                 10397      9048     16828      3383     13242   \n",
       "C_endothelial            13041     12627      2879     12396      6159   \n",
       "C_epsilon                 6637      6299     11320     16388     19024   \n",
       "C_gamma                  13386       932     16601      7869     10138   \n",
       "C_macrophage             12935      1973      8490     15095      1971   \n",
       "C_mast                   17870     17869      3734      2816     14929   \n",
       "C_quiescent_stellate     14362     11057      4987      8266      6668   \n",
       "C_schwann                16160     15146      6911     12598      3859   \n",
       "C_t_cell                  2842     19329     17887      2729     18058   \n",
       "\n",
       "                      Marker_6  Marker_7  Marker_8  Marker_9  Marker_10  \n",
       "C_acinar                  4020      3057     12577     13083      13081  \n",
       "C_activated_stellate      6179      5878      3632      9231        405  \n",
       "C_alpha                   8713     14361     17366     15991      12291  \n",
       "C_beta                      68     13322      1974     15686       4675  \n",
       "C_delta                   6407      4516      6543       959      15098  \n",
       "C_ductal                  9077     13639     17311      4203        809  \n",
       "C_endothelial             8756     16167     13115     17277       4968  \n",
       "C_epsilon                 9723      6358     12939      6027        190  \n",
       "C_gamma                  18672     12375     18319     11391       2159  \n",
       "C_macrophage              3888      7541      4127     15487       7307  \n",
       "C_mast                   14396      2020      6502      8896       9696  \n",
       "C_quiescent_stellate       315     19198       372      3930       1823  \n",
       "C_schwann                 1728     16509      6356      4579       7961  \n",
       "C_t_cell                  6503      8385     12389      2840       2854  "
      ]
     },
     "execution_count": 18,
     "metadata": {},
     "output_type": "execute_result"
    }
   ],
   "source": [
    "baron_h1.get_markers(ind_return = True)"
   ]
  }
 ],
 "metadata": {
  "kernelspec": {
   "display_name": "Python 3",
   "language": "python",
   "name": "python3"
  },
  "language_info": {
   "codemirror_mode": {
    "name": "ipython",
    "version": 3
   },
   "file_extension": ".py",
   "mimetype": "text/x-python",
   "name": "python",
   "nbconvert_exporter": "python",
   "pygments_lexer": "ipython3",
   "version": "3.8.8"
  }
 },
 "nbformat": 4,
 "nbformat_minor": 5
}
